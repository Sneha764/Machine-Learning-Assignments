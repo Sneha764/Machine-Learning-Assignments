{
 "cells": [
  {
   "cell_type": "code",
   "execution_count": 9,
   "id": "44fef08d",
   "metadata": {
    "scrolled": true
   },
   "outputs": [
    {
     "name": "stdout",
     "output_type": "stream",
     "text": [
      "Defaulting to user installation because normal site-packages is not writeable\n",
      "Requirement already satisfied: pandas in c:\\programdata\\anaconda3\\lib\\site-packages (1.4.4)\n",
      "Requirement already satisfied: numpy in c:\\programdata\\anaconda3\\lib\\site-packages (1.21.5)\n",
      "Requirement already satisfied: openpyxl in c:\\programdata\\anaconda3\\lib\\site-packages (3.0.10)\n",
      "Requirement already satisfied: pytz>=2020.1 in c:\\programdata\\anaconda3\\lib\\site-packages (from pandas) (2022.1)\n",
      "Requirement already satisfied: python-dateutil>=2.8.1 in c:\\programdata\\anaconda3\\lib\\site-packages (from pandas) (2.8.2)\n",
      "Requirement already satisfied: et_xmlfile in c:\\programdata\\anaconda3\\lib\\site-packages (from openpyxl) (1.1.0)\n",
      "Requirement already satisfied: six>=1.5 in c:\\programdata\\anaconda3\\lib\\site-packages (from python-dateutil>=2.8.1->pandas) (1.16.0)\n"
     ]
    }
   ],
   "source": [
    "import pandas as pd\n",
    "import numpy as np\n",
    "!pip install pandas numpy openpyxl"
   ]
  },
  {
   "cell_type": "code",
   "execution_count": 79,
   "id": "3fc0c7fb",
   "metadata": {},
   "outputs": [],
   "source": [
    "from sklearn.model_selection import train_test_split\n",
    "from sklearn.linear_model import LogisticRegression\n",
    "from sklearn.metrics import classification_report, accuracy_score"
   ]
  },
  {
   "cell_type": "code",
   "execution_count": 12,
   "id": "347eeb09",
   "metadata": {},
   "outputs": [],
   "source": [
    "df = pd.read_excel('Lab Session Data.xlsx')"
   ]
  },
  {
   "cell_type": "code",
   "execution_count": 13,
   "id": "68fb26db",
   "metadata": {},
   "outputs": [
    {
     "name": "stdout",
     "output_type": "stream",
     "text": [
      "  Customer  Candies (#)  Mangoes (Kg)  Milk Packets (#)  Payment (Rs)  \\\n",
      "0      C_1           20             6                 2           386   \n",
      "1      C_2           16             3                 6           289   \n",
      "2      C_3           27             6                 2           393   \n",
      "3      C_4           19             1                 2           110   \n",
      "4      C_5           24             4                 2           280   \n",
      "\n",
      "   Unnamed: 5  Unnamed: 6  Unnamed: 7  Unnamed: 8  Unnamed: 9  ...  \\\n",
      "0         NaN         NaN         NaN         NaN         NaN  ...   \n",
      "1         NaN         NaN         NaN         NaN         NaN  ...   \n",
      "2         NaN         NaN         NaN         NaN         NaN  ...   \n",
      "3         NaN         NaN         NaN         NaN         NaN  ...   \n",
      "4         NaN         NaN         NaN         NaN         NaN  ...   \n",
      "\n",
      "   Unnamed: 12  Unnamed: 13  Unnamed: 14  Unnamed: 15  Unnamed: 16  \\\n",
      "0          NaN          NaN          NaN          NaN          NaN   \n",
      "1          NaN          NaN          NaN          NaN          NaN   \n",
      "2          NaN          NaN          NaN          NaN          NaN   \n",
      "3          NaN          NaN          NaN          NaN          NaN   \n",
      "4          NaN          NaN          NaN          NaN          NaN   \n",
      "\n",
      "   Unnamed: 17  Unnamed: 18  Candy  Mango  Milk  \n",
      "0          NaN          NaN    1.0   55.0  18.0  \n",
      "1          NaN          NaN    NaN    NaN   NaN  \n",
      "2          NaN          NaN    NaN    NaN   NaN  \n",
      "3          NaN          NaN    NaN    NaN   NaN  \n",
      "4          NaN          NaN    NaN    NaN   NaN  \n",
      "\n",
      "[5 rows x 22 columns]\n"
     ]
    }
   ],
   "source": [
    "print(df.head())"
   ]
  },
  {
   "cell_type": "code",
   "execution_count": 21,
   "id": "7a03dade",
   "metadata": {},
   "outputs": [],
   "source": [
    "columns_to_drop = [f'Unnamed: {i}' for i in range(5, 19)]\n",
    "\n",
    "# Drop the specified columns\n",
    "df = df.drop(columns=columns_to_drop, errors='ignore')\n",
    "\n",
    "columns_to_drop = ['Candy','Mango','Milk']\n",
    "\n",
    "# Drop the specified columns\n",
    "df = df.drop(columns=columns_to_drop, errors='ignore')"
   ]
  },
  {
   "cell_type": "code",
   "execution_count": 22,
   "id": "cc39a886",
   "metadata": {},
   "outputs": [
    {
     "data": {
      "text/html": [
       "<div>\n",
       "<style scoped>\n",
       "    .dataframe tbody tr th:only-of-type {\n",
       "        vertical-align: middle;\n",
       "    }\n",
       "\n",
       "    .dataframe tbody tr th {\n",
       "        vertical-align: top;\n",
       "    }\n",
       "\n",
       "    .dataframe thead th {\n",
       "        text-align: right;\n",
       "    }\n",
       "</style>\n",
       "<table border=\"1\" class=\"dataframe\">\n",
       "  <thead>\n",
       "    <tr style=\"text-align: right;\">\n",
       "      <th></th>\n",
       "      <th>Customer</th>\n",
       "      <th>Candies (#)</th>\n",
       "      <th>Mangoes (Kg)</th>\n",
       "      <th>Milk Packets (#)</th>\n",
       "      <th>Payment (Rs)</th>\n",
       "    </tr>\n",
       "  </thead>\n",
       "  <tbody>\n",
       "    <tr>\n",
       "      <th>0</th>\n",
       "      <td>C_1</td>\n",
       "      <td>20</td>\n",
       "      <td>6</td>\n",
       "      <td>2</td>\n",
       "      <td>386</td>\n",
       "    </tr>\n",
       "    <tr>\n",
       "      <th>1</th>\n",
       "      <td>C_2</td>\n",
       "      <td>16</td>\n",
       "      <td>3</td>\n",
       "      <td>6</td>\n",
       "      <td>289</td>\n",
       "    </tr>\n",
       "    <tr>\n",
       "      <th>2</th>\n",
       "      <td>C_3</td>\n",
       "      <td>27</td>\n",
       "      <td>6</td>\n",
       "      <td>2</td>\n",
       "      <td>393</td>\n",
       "    </tr>\n",
       "    <tr>\n",
       "      <th>3</th>\n",
       "      <td>C_4</td>\n",
       "      <td>19</td>\n",
       "      <td>1</td>\n",
       "      <td>2</td>\n",
       "      <td>110</td>\n",
       "    </tr>\n",
       "    <tr>\n",
       "      <th>4</th>\n",
       "      <td>C_5</td>\n",
       "      <td>24</td>\n",
       "      <td>4</td>\n",
       "      <td>2</td>\n",
       "      <td>280</td>\n",
       "    </tr>\n",
       "    <tr>\n",
       "      <th>5</th>\n",
       "      <td>C_6</td>\n",
       "      <td>22</td>\n",
       "      <td>1</td>\n",
       "      <td>5</td>\n",
       "      <td>167</td>\n",
       "    </tr>\n",
       "    <tr>\n",
       "      <th>6</th>\n",
       "      <td>C_7</td>\n",
       "      <td>15</td>\n",
       "      <td>4</td>\n",
       "      <td>2</td>\n",
       "      <td>271</td>\n",
       "    </tr>\n",
       "    <tr>\n",
       "      <th>7</th>\n",
       "      <td>C_8</td>\n",
       "      <td>18</td>\n",
       "      <td>4</td>\n",
       "      <td>2</td>\n",
       "      <td>274</td>\n",
       "    </tr>\n",
       "    <tr>\n",
       "      <th>8</th>\n",
       "      <td>C_9</td>\n",
       "      <td>21</td>\n",
       "      <td>1</td>\n",
       "      <td>4</td>\n",
       "      <td>148</td>\n",
       "    </tr>\n",
       "    <tr>\n",
       "      <th>9</th>\n",
       "      <td>C_10</td>\n",
       "      <td>16</td>\n",
       "      <td>2</td>\n",
       "      <td>4</td>\n",
       "      <td>198</td>\n",
       "    </tr>\n",
       "  </tbody>\n",
       "</table>\n",
       "</div>"
      ],
      "text/plain": [
       "  Customer  Candies (#)  Mangoes (Kg)  Milk Packets (#)  Payment (Rs)\n",
       "0      C_1           20             6                 2           386\n",
       "1      C_2           16             3                 6           289\n",
       "2      C_3           27             6                 2           393\n",
       "3      C_4           19             1                 2           110\n",
       "4      C_5           24             4                 2           280\n",
       "5      C_6           22             1                 5           167\n",
       "6      C_7           15             4                 2           271\n",
       "7      C_8           18             4                 2           274\n",
       "8      C_9           21             1                 4           148\n",
       "9     C_10           16             2                 4           198"
      ]
     },
     "execution_count": 22,
     "metadata": {},
     "output_type": "execute_result"
    }
   ],
   "source": [
    "df"
   ]
  },
  {
   "cell_type": "code",
   "execution_count": 23,
   "id": "be79fdcc",
   "metadata": {},
   "outputs": [
    {
     "data": {
      "text/plain": [
       "['Customer', 'Candies (#)', 'Mangoes (Kg)', 'Milk Packets (#)', 'Payment (Rs)']"
      ]
     },
     "execution_count": 23,
     "metadata": {},
     "output_type": "execute_result"
    }
   ],
   "source": [
    "df.columns.values.tolist()"
   ]
  },
  {
   "cell_type": "code",
   "execution_count": 29,
   "id": "42d04b83",
   "metadata": {},
   "outputs": [],
   "source": [
    "A = df[['Candies (#)', 'Mangoes (Kg)', 'Milk Packets (#)']].to_numpy(dtype=np.int32)"
   ]
  },
  {
   "cell_type": "code",
   "execution_count": 38,
   "id": "82411f08",
   "metadata": {},
   "outputs": [],
   "source": [
    "C = df[['Payment (Rs)']].to_numpy(dtype=np.int32)"
   ]
  },
  {
   "cell_type": "code",
   "execution_count": 50,
   "id": "34456d5a",
   "metadata": {},
   "outputs": [
    {
     "name": "stdout",
     "output_type": "stream",
     "text": [
      "A =  [[20  6  2]\n",
      " [16  3  6]\n",
      " [27  6  2]\n",
      " [19  1  2]\n",
      " [24  4  2]\n",
      " [22  1  5]\n",
      " [15  4  2]\n",
      " [18  4  2]\n",
      " [21  1  4]\n",
      " [16  2  4]]\n",
      "C =  [[386]\n",
      " [289]\n",
      " [393]\n",
      " [110]\n",
      " [280]\n",
      " [167]\n",
      " [271]\n",
      " [274]\n",
      " [148]\n",
      " [198]]\n"
     ]
    }
   ],
   "source": [
    "print(\"A = \",A)\n",
    "print(\"C = \",C)"
   ]
  },
  {
   "cell_type": "code",
   "execution_count": 56,
   "id": "c2a38a3f",
   "metadata": {},
   "outputs": [],
   "source": [
    "# What is the dimensionality of the vector space for this data?\n",
    "def dimensionality(A):\n",
    "    return A.shape[1]"
   ]
  },
  {
   "cell_type": "code",
   "execution_count": 57,
   "id": "daf06ad6",
   "metadata": {},
   "outputs": [],
   "source": [
    "# How many vectors exist in this vector space?\n",
    "def no_of_vectors(A):\n",
    "    return A.shape[0]"
   ]
  },
  {
   "cell_type": "code",
   "execution_count": 58,
   "id": "d2e4e74e",
   "metadata": {},
   "outputs": [],
   "source": [
    "# What is the rank of Matrix A?\n",
    "def rank(A):\n",
    "    return np.linalg.matrix_rank(A)"
   ]
  },
  {
   "cell_type": "code",
   "execution_count": 59,
   "id": "00ebf72f",
   "metadata": {},
   "outputs": [],
   "source": [
    "# Using Pseudo-Inverse find the cost of each product available for sale. \n",
    "def Pseudo_Inverse(A):\n",
    "    return np.linalg.pinv(A)"
   ]
  },
  {
   "cell_type": "code",
   "execution_count": 64,
   "id": "8b6846bb",
   "metadata": {},
   "outputs": [
    {
     "name": "stdout",
     "output_type": "stream",
     "text": [
      "Dimensionality of the vector space is: 3\n",
      "\n",
      "Number of vectors is: 10\n",
      "\n",
      "Rank of Matrix A: 3\n",
      "\n",
      "Cost of each product:\n",
      "[[-0.01008596 -0.03124505  0.01013951  0.0290728   0.0182907   0.01161794\n",
      "  -0.00771348  0.00095458  0.01743623 -0.00542016]\n",
      " [ 0.09059668  0.07263726  0.03172933 -0.09071908 -0.01893196 -0.06926996\n",
      "   0.05675464  0.03152577 -0.07641966  0.00357352]\n",
      " [ 0.00299878  0.15874243 -0.05795468 -0.06609024 -0.06295043  0.03348017\n",
      "   0.01541831 -0.01070461  0.00029003  0.05938755]]\n"
     ]
    }
   ],
   "source": [
    "print(f\"Dimensionality of the vector space is: {dimensionality(A)}\")\n",
    "print(f\"\\nNumber of vectors is: {no_of_vectors(A)}\")\n",
    "print(f\"\\nRank of Matrix A: {rank(A)}\")\n",
    "print(\"\\nCost of each product:\")\n",
    "print(Pseudo_Inverse(A))"
   ]
  },
  {
   "cell_type": "code",
   "execution_count": 67,
   "id": "a1bb064c",
   "metadata": {},
   "outputs": [
    {
     "name": "stdout",
     "output_type": "stream",
     "text": [
      "Predicting the cost of the products available with the vendor:\n",
      " [[ 1.]\n",
      " [55.]\n",
      " [18.]]\n"
     ]
    }
   ],
   "source": [
    "# Use the Pseudo-inverse to calculate the model vector X for predicting the cost of the products available with the vendor.\n",
    "def predicting_the_cost(A):\n",
    "    return A_pseudo_inv @ C         # \"@\" to multiply matrices\n",
    "\n",
    "print(\"Predicting the cost of the products available with the vendor:\\n\", predicting_the_cost(A))"
   ]
  },
  {
   "cell_type": "code",
   "execution_count": 80,
   "id": "77f4f651",
   "metadata": {},
   "outputs": [
    {
     "name": "stdout",
     "output_type": "stream",
     "text": [
      "Classification Report:\n",
      "              precision    recall  f1-score   support\n",
      "\n",
      "        POOR       1.00      1.00      1.00         1\n",
      "        RICH       1.00      1.00      1.00         2\n",
      "\n",
      "    accuracy                           1.00         3\n",
      "   macro avg       1.00      1.00      1.00         3\n",
      "weighted avg       1.00      1.00      1.00         3\n",
      "\n",
      "Accuracy Score:\n",
      "1.0\n"
     ]
    }
   ],
   "source": [
    "# A3. Mark all customers (in “Purchase Data” table) with payments above Rs. 200 as RICH and others \n",
    "# as POOR. Develop a classifier model to categorize customers into RICH or POOR class based on \n",
    "# purchase behavior\n",
    "def compute_labels(C):\n",
    "   \n",
    "    return np.where(C > 200, 'RICH', 'POOR').flatten()\n",
    "\n",
    "def main():\n",
    "    y = compute_labels(C)\n",
    "    X = A\n",
    "   \n",
    "    X_train, X_test, y_train, y_test = train_test_split(X, y, test_size=0.3, random_state=42, stratify=y)\n",
    "      \n",
    "    model = LogisticRegression(max_iter=1000)\n",
    "    model.fit(X_train, y_train)\n",
    "      \n",
    "    y_pred = model.predict(X_test)\n",
    "      \n",
    "    print(\"Classification Report:\")\n",
    "    print(classification_report(y_test, y_pred, zero_division=0))\n",
    "   \n",
    "    print(\"Accuracy Score:\")\n",
    "    print(accuracy_score(y_test, y_pred))\n",
    "\n",
    "if __name__ == \"__main__\":\n",
    "    main()"
   ]
  },
  {
   "cell_type": "code",
   "execution_count": null,
   "id": "2b0804f0",
   "metadata": {},
   "outputs": [],
   "source": []
  }
 ],
 "metadata": {
  "kernelspec": {
   "display_name": "Python 3 (ipykernel)",
   "language": "python",
   "name": "python3"
  },
  "language_info": {
   "codemirror_mode": {
    "name": "ipython",
    "version": 3
   },
   "file_extension": ".py",
   "mimetype": "text/x-python",
   "name": "python",
   "nbconvert_exporter": "python",
   "pygments_lexer": "ipython3",
   "version": "3.9.13"
  }
 },
 "nbformat": 4,
 "nbformat_minor": 5
}
