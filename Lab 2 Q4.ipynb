{
 "cells": [
  {
   "cell_type": "code",
   "execution_count": 1,
   "id": "2e22dcfe",
   "metadata": {
    "scrolled": true
   },
   "outputs": [
    {
     "name": "stdout",
     "output_type": "stream",
     "text": [
      "Defaulting to user installation because normal site-packages is not writeable\n",
      "Requirement already satisfied: pandas in c:\\programdata\\anaconda3\\lib\\site-packages (1.4.4)\n",
      "Requirement already satisfied: numpy in c:\\programdata\\anaconda3\\lib\\site-packages (1.21.5)\n",
      "Requirement already satisfied: openpyxl in c:\\programdata\\anaconda3\\lib\\site-packages (3.0.10)\n",
      "Requirement already satisfied: pytz>=2020.1 in c:\\programdata\\anaconda3\\lib\\site-packages (from pandas) (2022.1)\n",
      "Requirement already satisfied: python-dateutil>=2.8.1 in c:\\programdata\\anaconda3\\lib\\site-packages (from pandas) (2.8.2)\n",
      "Requirement already satisfied: et_xmlfile in c:\\programdata\\anaconda3\\lib\\site-packages (from openpyxl) (1.1.0)\n",
      "Requirement already satisfied: six>=1.5 in c:\\programdata\\anaconda3\\lib\\site-packages (from python-dateutil>=2.8.1->pandas) (1.16.0)\n"
     ]
    }
   ],
   "source": [
    "import pandas as pd\n",
    "import numpy as np\n",
    "# library for reading and writing Excel files\n",
    "!pip install pandas numpy openpyxl     "
   ]
  },
  {
   "cell_type": "code",
   "execution_count": 2,
   "id": "7ba8f208",
   "metadata": {},
   "outputs": [
    {
     "data": {
      "text/html": [
       "<div>\n",
       "<style scoped>\n",
       "    .dataframe tbody tr th:only-of-type {\n",
       "        vertical-align: middle;\n",
       "    }\n",
       "\n",
       "    .dataframe tbody tr th {\n",
       "        vertical-align: top;\n",
       "    }\n",
       "\n",
       "    .dataframe thead th {\n",
       "        text-align: right;\n",
       "    }\n",
       "</style>\n",
       "<table border=\"1\" class=\"dataframe\">\n",
       "  <thead>\n",
       "    <tr style=\"text-align: right;\">\n",
       "      <th></th>\n",
       "      <th>Date</th>\n",
       "      <th>Month</th>\n",
       "      <th>Day</th>\n",
       "      <th>Price</th>\n",
       "      <th>Open</th>\n",
       "      <th>High</th>\n",
       "      <th>Low</th>\n",
       "      <th>Volume</th>\n",
       "      <th>Chg%</th>\n",
       "    </tr>\n",
       "  </thead>\n",
       "  <tbody>\n",
       "    <tr>\n",
       "      <th>0</th>\n",
       "      <td>Jun 29, 2021</td>\n",
       "      <td>Jun</td>\n",
       "      <td>Tue</td>\n",
       "      <td>2081.85</td>\n",
       "      <td>2092.00</td>\n",
       "      <td>2126.90</td>\n",
       "      <td>2065.05</td>\n",
       "      <td>1.67M</td>\n",
       "      <td>0.0020</td>\n",
       "    </tr>\n",
       "    <tr>\n",
       "      <th>1</th>\n",
       "      <td>Jun 28, 2021</td>\n",
       "      <td>Jun</td>\n",
       "      <td>Mon</td>\n",
       "      <td>2077.75</td>\n",
       "      <td>2084.00</td>\n",
       "      <td>2112.45</td>\n",
       "      <td>2068.40</td>\n",
       "      <td>707.73K</td>\n",
       "      <td>0.0043</td>\n",
       "    </tr>\n",
       "    <tr>\n",
       "      <th>2</th>\n",
       "      <td>Jun 25, 2021</td>\n",
       "      <td>Jun</td>\n",
       "      <td>Fri</td>\n",
       "      <td>2068.85</td>\n",
       "      <td>2084.35</td>\n",
       "      <td>2088.50</td>\n",
       "      <td>2053.10</td>\n",
       "      <td>475.82K</td>\n",
       "      <td>-0.0020</td>\n",
       "    </tr>\n",
       "    <tr>\n",
       "      <th>3</th>\n",
       "      <td>Jun 24, 2021</td>\n",
       "      <td>Jun</td>\n",
       "      <td>Thu</td>\n",
       "      <td>2072.95</td>\n",
       "      <td>2098.00</td>\n",
       "      <td>2098.00</td>\n",
       "      <td>2066.00</td>\n",
       "      <td>541.51K</td>\n",
       "      <td>-0.0026</td>\n",
       "    </tr>\n",
       "    <tr>\n",
       "      <th>4</th>\n",
       "      <td>Jun 23, 2021</td>\n",
       "      <td>Jun</td>\n",
       "      <td>Wed</td>\n",
       "      <td>2078.25</td>\n",
       "      <td>2102.00</td>\n",
       "      <td>2111.40</td>\n",
       "      <td>2072.00</td>\n",
       "      <td>809.62K</td>\n",
       "      <td>-0.0023</td>\n",
       "    </tr>\n",
       "  </tbody>\n",
       "</table>\n",
       "</div>"
      ],
      "text/plain": [
       "           Date Month  Day    Price     Open     High      Low   Volume  \\\n",
       "0  Jun 29, 2021   Jun  Tue  2081.85  2092.00  2126.90  2065.05    1.67M   \n",
       "1  Jun 28, 2021   Jun  Mon  2077.75  2084.00  2112.45  2068.40  707.73K   \n",
       "2  Jun 25, 2021   Jun  Fri  2068.85  2084.35  2088.50  2053.10  475.82K   \n",
       "3  Jun 24, 2021   Jun  Thu  2072.95  2098.00  2098.00  2066.00  541.51K   \n",
       "4  Jun 23, 2021   Jun  Wed  2078.25  2102.00  2111.40  2072.00  809.62K   \n",
       "\n",
       "     Chg%  \n",
       "0  0.0020  \n",
       "1  0.0043  \n",
       "2 -0.0020  \n",
       "3 -0.0026  \n",
       "4 -0.0023  "
      ]
     },
     "execution_count": 2,
     "metadata": {},
     "output_type": "execute_result"
    }
   ],
   "source": [
    "file_path = 'Lab Session Data.xlsx'\n",
    "\n",
    "df = pd.read_excel(file_path, sheet_name='IRCTC Stock Price')\n",
    "\n",
    "df.head()"
   ]
  },
  {
   "cell_type": "code",
   "execution_count": 3,
   "id": "fb1423a0",
   "metadata": {},
   "outputs": [
    {
     "name": "stdout",
     "output_type": "stream",
     "text": [
      "Mean =  1560.6634538152598\n",
      "Variance =  58732.36535253922\n"
     ]
    }
   ],
   "source": [
    "# Calculate the mean and variance of the Price data present in column D. \n",
    "mean = df['Price'].mean()\n",
    "var = df['Price'].var()\n",
    "\n",
    "\n",
    "print('Mean = ', mean)\n",
    "print('Variance = ', var)"
   ]
  },
  {
   "cell_type": "code",
   "execution_count": 4,
   "id": "762935ad",
   "metadata": {},
   "outputs": [
    {
     "name": "stdout",
     "output_type": "stream",
     "text": [
      "            Date Month  Day    Price     Open     High      Low   Volume  \\\n",
      "4   Jun 23, 2021   Jun  Wed  2078.25  2102.00  2111.40  2072.00  809.62K   \n",
      "9   Jun 16, 2021   Jun  Wed  2089.95  2109.45  2121.95  2075.30  856.94K   \n",
      "14  Jun 09, 2021   Jun  Wed  2071.20  2160.00  2163.00  2060.00    2.34M   \n",
      "19  Jun 02, 2021   Jun  Wed  1917.95  1899.95  1927.50  1895.25  576.76K   \n",
      "24  May 26, 2021   May  Wed  1894.05  1920.00  1930.05  1888.00  922.76K   \n",
      "\n",
      "      Chg%  \n",
      "4  -0.0023  \n",
      "9  -0.0038  \n",
      "14 -0.0343  \n",
      "19  0.0123  \n",
      "24 -0.0073  \n",
      "\n",
      "Wednesday mean =  1550.7060000000004\n",
      "Population mean =  1560.6634538152598\n",
      "Observation: The sample mean for Wednesdays is lower than the population mean.\n"
     ]
    }
   ],
   "source": [
    "# Select the price data for all Wednesdays and calculate the sample mean. Compare the mean with the population mean and note \n",
    "# your observations.\n",
    "\n",
    "# df[df['column_name'] == 'row_value'] ==> returns rows with value 'row_value' in the column 'column_name'\n",
    "wednesday_df = df[df['Day'] == 'Wed']  \n",
    "\n",
    "print(wednesday_df.head())\n",
    "print()\n",
    "\n",
    "wednesday_mean = wednesday_df['Price'].mean()\n",
    "print('Wednesday mean = ', wednesday_mean)\n",
    "print('Population mean = ', mean)\n",
    "\n",
    "# comparing wednesday price mean with the population mean\n",
    "if wednesday_mean > mean:\n",
    "    print(\"Observation: The sample mean for Wednesdays is higher than the population mean.\")\n",
    "elif wednesday_mean < mean:\n",
    "    print(\"Observation: The sample mean for Wednesdays is lower than the population mean.\")\n",
    "else:\n",
    "    print(\"Observation: The sample mean for Wednesdays is equal to the population mean.\")"
   ]
  },
  {
   "cell_type": "code",
   "execution_count": 5,
   "id": "416557e0",
   "metadata": {},
   "outputs": [
    {
     "name": "stdout",
     "output_type": "stream",
     "text": [
      "            Date Month  Day    Price    Open     High      Low   Volume  \\\n",
      "41  Apr 30, 2021   Apr  Fri  1791.40  1784.9  1809.15  1757.75  756.66K   \n",
      "42  Apr 29, 2021   Apr  Thu  1792.55  1801.0  1818.00  1765.30    1.21M   \n",
      "43  Apr 28, 2021   Apr  Wed  1795.85  1800.0  1818.00  1775.00    1.54M   \n",
      "44  Apr 27, 2021   Apr  Tue  1793.20  1730.0  1802.60  1714.65    2.26M   \n",
      "45  Apr 26, 2021   Apr  Mon  1730.85  1721.9  1739.25  1718.00  791.76K   \n",
      "\n",
      "      Chg%  \n",
      "41 -0.0006  \n",
      "42 -0.0018  \n",
      "43  0.0015  \n",
      "44  0.0360  \n",
      "45  0.0110  \n",
      "\n",
      "April mean =  1698.9526315789474\n",
      "Population mean =  1560.6634538152598\n",
      "Observation: The sample mean for April is higher than the population mean.\n"
     ]
    }
   ],
   "source": [
    "# Select the price data for the month of Apr and calculate the sample mean. Compare the\n",
    "# mean with the population mean and note your observations.\n",
    "\n",
    "april_df = df[df['Month'] == 'Apr']\n",
    "print(april_df.head())\n",
    "print()\n",
    "\n",
    "april_mean = april_df['Price'].mean()\n",
    "print('April mean = ', april_mean)\n",
    "print('Population mean = ', mean)\n",
    "\n",
    "# comparing april price mean with the population mean\n",
    "if april_mean > mean:\n",
    "    print(\"Observation: The sample mean for April is higher than the population mean.\")\n",
    "elif april_mean < mean:\n",
    "    print(\"Observation: The sample mean for April is lower than the population mean.\")\n",
    "else:\n",
    "    print(\"Observation: The sample mean for April is equal to the population mean.\")"
   ]
  },
  {
   "cell_type": "code",
   "execution_count": 6,
   "id": "c7ba6595",
   "metadata": {},
   "outputs": [
    {
     "name": "stdout",
     "output_type": "stream",
     "text": [
      "Probability of making a loss: 0.50\n",
      "\n",
      "           Date Month  Day    Price     Open     High      Low   Volume  \\\n",
      "2  Jun 25, 2021   Jun  Fri  2068.85  2084.35  2088.50  2053.10  475.82K   \n",
      "3  Jun 24, 2021   Jun  Thu  2072.95  2098.00  2098.00  2066.00  541.51K   \n",
      "4  Jun 23, 2021   Jun  Wed  2078.25  2102.00  2111.40  2072.00  809.62K   \n",
      "7  Jun 18, 2021   Jun  Fri  2011.70  2070.25  2070.25  1978.65    1.30M   \n",
      "8  Jun 17, 2021   Jun  Thu  2050.40  2070.00  2088.95  2036.40  754.28K   \n",
      "\n",
      "     Chg%  \n",
      "2 -0.0020  \n",
      "3 -0.0026  \n",
      "4 -0.0023  \n",
      "7 -0.0189  \n",
      "8 -0.0189  \n",
      "\n",
      "Probability of making a loss: 0.4979919678714859\n"
     ]
    }
   ],
   "source": [
    "# From the Chg% (available in column I) find the probability of making a loss over the stock.\n",
    "# (Suggestion: use lambda function to find negative values)\n",
    "\n",
    "# using lambda functions\n",
    "negative_changes = df['Chg%'].apply(lambda x: x < 0)\n",
    "probability_of_loss = negative_changes.mean()\n",
    "print(f\"Probability of making a loss: {probability_of_loss:.2f}\")\n",
    "\n",
    "print()\n",
    "\n",
    "chg_df = df[df['Chg%'] < 0]\n",
    "print(chg_df.head())\n",
    "total_days = len(df)\n",
    "loss_days = len(chg_df)\n",
    "prob_of_loss = loss_days / total_days\n",
    "\n",
    "print(f\"\\nProbability of making a loss: {prob_of_loss}\")"
   ]
  }
 ],
 "metadata": {
  "kernelspec": {
   "display_name": "Python 3 (ipykernel)",
   "language": "python",
   "name": "python3"
  },
  "language_info": {
   "codemirror_mode": {
    "name": "ipython",
    "version": 3
   },
   "file_extension": ".py",
   "mimetype": "text/x-python",
   "name": "python",
   "nbconvert_exporter": "python",
   "pygments_lexer": "ipython3",
   "version": "3.9.13"
  }
 },
 "nbformat": 4,
 "nbformat_minor": 5
}
