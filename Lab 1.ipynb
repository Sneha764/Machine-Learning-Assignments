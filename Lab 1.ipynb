{
 "cells": [
  {
   "cell_type": "code",
   "execution_count": 1,
   "id": "03b3f26d-dddf-4415-9a8f-ed1e742f4317",
   "metadata": {},
   "outputs": [],
   "source": [
    "import numpy as np"
   ]
  },
  {
   "cell_type": "code",
   "execution_count": 2,
   "id": "32153982-1cec-45ba-8221-ed50f59d6e19",
   "metadata": {},
   "outputs": [
    {
     "name": "stdout",
     "output_type": "stream",
     "text": [
      "Q1.\n"
     ]
    },
    {
     "name": "stdin",
     "output_type": "stream",
     "text": [
      "Enter a string:  Hello, this is Sneha!\n"
     ]
    },
    {
     "name": "stdout",
     "output_type": "stream",
     "text": [
      "Count of Vowels = 6 and of Consonants = 10\n"
     ]
    }
   ],
   "source": [
    "# Q1\n",
    "# Write a program to count the number of vowels and consonants present in an input string\n",
    "def no_of_vowels_and_consonants(input_string):\n",
    "    vowels = ['a', 'e', 'i', 'o', 'u'] #list of vowels\n",
    "    num_vowels = 0  # no of vowels\n",
    "    num_consonants = 0  # no of consonants\n",
    "\n",
    "    for char in input_string: # to iterate through every character in the string\n",
    "        if char.isalpha(): #to check if its a alphabet\n",
    "            if char.lower() in vowels:\n",
    "                num_vowels += 1  # cant perform post and pre increment in python\n",
    "            else:\n",
    "                num_consonants += 1\n",
    "                \n",
    "    return num_vowels, num_consonants\n",
    "\n",
    "def main():\n",
    "    print(\"Q1.\")\n",
    "    input_string = input('Enter a string: ')\n",
    "    num_vowels, num_consonants = no_of_vowels_and_consonants(input_string)\n",
    "    print(f\"Count of Vowels = {num_vowels} and of Consonants = {num_consonants}\")        \n",
    "\n",
    "if __name__ == \"__main__\":\n",
    "    main()\n"
   ]
  },
  {
   "cell_type": "code",
   "execution_count": 3,
   "id": "bd170990-ab29-4c12-be92-a70932f0306f",
   "metadata": {},
   "outputs": [
    {
     "name": "stdout",
     "output_type": "stream",
     "text": [
      "\n",
      "Q2.\n"
     ]
    },
    {
     "name": "stdin",
     "output_type": "stream",
     "text": [
      "Enter no. of rows:  2\n",
      "Enter no. of columns:  1\n",
      "Enter matrix[1][1] =  1\n",
      "Enter matrix[2][1] =  2\n",
      "Enter no. of rows:  1\n",
      "Enter no. of columns:  3\n",
      "Enter matrix[1][1] =  1\n",
      "Enter matrix[1][2] =  1\n",
      "Enter matrix[1][3] =  1\n"
     ]
    },
    {
     "name": "stdout",
     "output_type": "stream",
     "text": [
      "[[1 1 1]\n",
      " [2 2 2]]\n"
     ]
    }
   ],
   "source": [
    "# Q2\n",
    "# Write a program that accepts two matrices A and B as input and returns their product AB. \n",
    "# Check if A & B are multipliable; if not, return error message\n",
    "def input_matrix():\n",
    "    rows = int(input('Enter no. of rows: '))\n",
    "    cols = int(input('Enter no. of columns: '))\n",
    "\n",
    "    mat = []\n",
    "\n",
    "    for row in range(rows):\n",
    "        temp_row = []\n",
    "        for col in range(cols):\n",
    "            temp_row.append(int(input(f'Enter matrix[{row+1}][{col+1}] = ')))\n",
    "        mat.append(temp_row)\n",
    "    return np.array(mat)\n",
    "\n",
    "def multiply_matrix(mat_a, mat_b):\n",
    "    r1, c1 = mat_a.shape\n",
    "    r2, c2 = mat_b.shape\n",
    "    if c1 != r2:\n",
    "        return None\n",
    "    else:\n",
    "        return np.dot(mat_a, mat_b)\n",
    "\n",
    "def main():\n",
    "    print(\"\\nQ2.\")\n",
    "    mat_a = input_matrix()\n",
    "    mat_b = input_matrix()\n",
    "    mat_c = multiply_matrix(mat_a, mat_b)\n",
    "    if mat_c is None:\n",
    "        print('The two matrices can\\'t be multiplied')\n",
    "    else:\n",
    "        print(f'{mat_c}')        \n",
    "\n",
    "if __name__ == \"__main__\":\n",
    "    main()\n"
   ]
  },
  {
   "cell_type": "code",
   "execution_count": 4,
   "id": "e7c88b7e-a54d-4adb-8d82-90c611cd9ea3",
   "metadata": {},
   "outputs": [
    {
     "name": "stdout",
     "output_type": "stream",
     "text": [
      "\n",
      "Q3.\n",
      "Enter element for list 1 (Enter a non integer to stop): \n"
     ]
    },
    {
     "name": "stdin",
     "output_type": "stream",
     "text": [
      " 1\n",
      " 2\n",
      " 3\n",
      " 4\n",
      " 5\n",
      " \n"
     ]
    },
    {
     "name": "stdout",
     "output_type": "stream",
     "text": [
      "Enter element for list 2: \n"
     ]
    },
    {
     "name": "stdin",
     "output_type": "stream",
     "text": [
      " 2\n",
      " 4\n",
      " \n"
     ]
    },
    {
     "name": "stdout",
     "output_type": "stream",
     "text": [
      "No. of common elements between the 2 lists = 2\n"
     ]
    }
   ],
   "source": [
    "# Q3\n",
    "# Write a program to find the number of common elements between two lists. The lists contain integers.\n",
    "def common_elements_between_two_lists(list1, list2):\n",
    "    return len(list(np.intersect1d(list1, list2)))\n",
    "\n",
    "def read_list_elements():\n",
    "    try:\n",
    "        temp_list = []\n",
    "        while True:\n",
    "            temp_list.append(int(input()))\n",
    "    # if the input is not a integer\n",
    "    except:\n",
    "        return temp_list\n",
    "\n",
    "def main():\n",
    "    print(\"\\nQ3.\")\n",
    "    print(\"Enter element for list 1 (Enter a non integer to stop): \")\n",
    "    l1 = read_list_elements()\n",
    "    print(\"Enter element for list 2: \")\n",
    "    l2 = read_list_elements()\n",
    "    print(f\"No. of common elements between the 2 lists = {common_elements_between_two_lists(l1, l2)}\")\n",
    "      \n",
    "if __name__ == \"__main__\":\n",
    "    main()"
   ]
  },
  {
   "cell_type": "code",
   "execution_count": 5,
   "id": "16417b4c-c089-428f-8041-17036ca9bffc",
   "metadata": {},
   "outputs": [
    {
     "name": "stdout",
     "output_type": "stream",
     "text": [
      "\n",
      "Q4.\n"
     ]
    },
    {
     "name": "stdin",
     "output_type": "stream",
     "text": [
      "Enter no. of rows:  2\n",
      "Enter no. of columns:  3\n",
      "Enter matrix[1][1] =  1\n",
      "Enter matrix[1][2] =  2\n",
      "Enter matrix[1][3] =  3\n",
      "Enter matrix[2][1] =  4\n",
      "Enter matrix[2][2] =  5\n",
      "Enter matrix[2][3] =  6\n"
     ]
    },
    {
     "name": "stdout",
     "output_type": "stream",
     "text": [
      "The original matrix is = \n",
      "[[1 2 3]\n",
      " [4 5 6]]\n",
      "Transpose of the matrix is = \n",
      "[[1 4]\n",
      " [2 5]\n",
      " [3 6]]\n"
     ]
    }
   ],
   "source": [
    "# Write a program that accepts a matrix as input and returns its transpose.\n",
    "def transpose_of_matrix(mat):\n",
    "    return np.transpose(mat)\n",
    "\n",
    "def main():\n",
    "    print(\"\\nQ4.\")\n",
    "    mat = input_matrix()\n",
    "    print(f\"The original matrix is = \")\n",
    "    print(mat)\n",
    "    print(f\"Transpose of the matrix is = \")\n",
    "    print(transpose_of_matrix(mat))        \n",
    "\n",
    "if __name__ == \"__main__\":\n",
    "    main()"
   ]
  }
 ],
 "metadata": {
  "kernelspec": {
   "display_name": "Python 3 (ipykernel)",
   "language": "python",
   "name": "python3"
  },
  "language_info": {
   "codemirror_mode": {
    "name": "ipython",
    "version": 3
   },
   "file_extension": ".py",
   "mimetype": "text/x-python",
   "name": "python",
   "nbconvert_exporter": "python",
   "pygments_lexer": "ipython3",
   "version": "3.12.4"
  }
 },
 "nbformat": 4,
 "nbformat_minor": 5
}
