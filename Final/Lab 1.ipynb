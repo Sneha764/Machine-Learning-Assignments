{
 "cells": [
  {
   "cell_type": "code",
   "execution_count": 2,
   "id": "03b3f26d-dddf-4415-9a8f-ed1e742f4317",
   "metadata": {},
   "outputs": [],
   "source": [
    "import numpy as np"
   ]
  },
  {
   "cell_type": "markdown",
   "id": "ea968710-f65f-4741-935e-dadc01f9961a",
   "metadata": {},
   "source": [
    "1. A program to count the number of vowels and consonants present in an input string"
   ]
  },
  {
   "cell_type": "code",
   "execution_count": 4,
   "id": "32153982-1cec-45ba-8221-ed50f59d6e19",
   "metadata": {},
   "outputs": [
    {
     "name": "stdin",
     "output_type": "stream",
     "text": [
      "Enter a string:  Hello, this is Sneha!\n"
     ]
    },
    {
     "name": "stdout",
     "output_type": "stream",
     "text": [
      "Number of Vowels = 6 and that of Consonants = 10\n"
     ]
    }
   ],
   "source": [
    "def no_of_vowels_and_consonants(input_string):\n",
    "    vowels = ['a', 'e', 'i', 'o', 'u']  # declaring a list of vowels\n",
    "    num_vowels = 0  # to store no of vowels\n",
    "    num_consonants = 0  # to store no of consonants\n",
    "\n",
    "    for char in input_string: # to iterate through every character in the string\n",
    "        if char.isalpha(): # checks if the character is an alphabet\n",
    "            if char.lower() in vowels: # Check if the alphabet is a vowel (case insensitive)\n",
    "                num_vowels += 1  # Note: we cant perform post and pre increment in python\n",
    "            else:\n",
    "                num_consonants += 1\n",
    "                \n",
    "    return num_vowels, num_consonants # return the counts of vowels and consonants\n",
    "\n",
    "def main():\n",
    "    input_string = input('Enter a string: ') # get the input string from user\n",
    "    num_vowels, num_consonants = no_of_vowels_and_consonants(input_string)\n",
    "    print(f\"Number of Vowels = {num_vowels} and that of Consonants = {num_consonants}\")        \n",
    "\n",
    "if __name__ == \"__main__\":\n",
    "    main()\n"
   ]
  },
  {
   "cell_type": "markdown",
   "id": "9d1152d8-b1f3-48a2-903f-93cfd8be618d",
   "metadata": {},
   "source": [
    "2. A program that accepts two matrices A and B as input and returns their product AB. "
   ]
  },
  {
   "cell_type": "code",
   "execution_count": 9,
   "id": "bd170990-ab29-4c12-be92-a70932f0306f",
   "metadata": {},
   "outputs": [
    {
     "name": "stdout",
     "output_type": "stream",
     "text": [
      "For matrix A\n"
     ]
    },
    {
     "name": "stdin",
     "output_type": "stream",
     "text": [
      "Enter no. of rows:  3\n",
      "Enter no. of columns:  3\n",
      "Enter matrix[1][1] =  1\n",
      "Enter matrix[1][2] =  1\n",
      "Enter matrix[1][3] =  1\n",
      "Enter matrix[2][1] =  1\n",
      "Enter matrix[2][2] =  1\n",
      "Enter matrix[2][3] =  1\n",
      "Enter matrix[3][1] =  1\n",
      "Enter matrix[3][2] =  1\n",
      "Enter matrix[3][3] =  1\n"
     ]
    },
    {
     "name": "stdout",
     "output_type": "stream",
     "text": [
      "\n",
      "For matrix B\n"
     ]
    },
    {
     "name": "stdin",
     "output_type": "stream",
     "text": [
      "Enter no. of rows:  3\n",
      "Enter no. of columns:  2\n",
      "Enter matrix[1][1] =  1\n",
      "Enter matrix[1][2] =  2\n",
      "Enter matrix[2][1] =  3\n",
      "Enter matrix[2][2] =  4\n",
      "Enter matrix[3][1] =  5\n",
      "Enter matrix[3][2] =  6\n"
     ]
    },
    {
     "name": "stdout",
     "output_type": "stream",
     "text": [
      "\n",
      "A.B = \n",
      "[[ 9 12]\n",
      " [ 9 12]\n",
      " [ 9 12]]\n"
     ]
    }
   ],
   "source": [
    "def input_matrix():\n",
    "    # taking number of rows and columns as input from user\n",
    "    rows = int(input('Enter no. of rows: '))\n",
    "    cols = int(input('Enter no. of columns: '))\n",
    "\n",
    "    # initialising a empty list\n",
    "    mat = []\n",
    "\n",
    "    for row in range(rows): # iterate through each row\n",
    "        temp_row = []\n",
    "        for col in range(cols): # iterate through each column\n",
    "            # append the input value to the current row\n",
    "            temp_row.append(int(input(f'Enter matrix[{row+1}][{col+1}] = '))) \n",
    "        mat.append(temp_row) # Append the current row to the matrix\n",
    "    return np.array(mat)  # convert the list to a numpy array and return\n",
    "\n",
    "def multiply_matrix(mat_a, mat_b):\n",
    "    return np.dot(mat_a, mat_b) # perform matrix multiplication and return the result\n",
    "\n",
    "def main():\n",
    "    print('For matrix A')\n",
    "    mat_a = input_matrix() # input the first matrix\n",
    "    print('\\nFor matrix B')\n",
    "    mat_b = input_matrix() # input the second matrix\n",
    "\n",
    "    r1, c1 = mat_a.shape # get the number of rows and columns of matrix A\n",
    "    r2, c2 = mat_b.shape # get the number of rows and columns of matrix B\n",
    "    if c1 != r2: # check the condition to verify if the 2 matrices can be multiplied\n",
    "        print('The two matrices can\\'t be multiplied')\n",
    "        \n",
    "    mat_c = multiply_matrix(mat_a, mat_b) # store the result in variable mat_c\n",
    "    print(f'\\nA.B = \\n{mat_c}')        \n",
    "\n",
    "if __name__ == \"__main__\":\n",
    "    main()"
   ]
  },
  {
   "cell_type": "markdown",
   "id": "fb117dc6-0777-4432-b7a8-6f5e2db73632",
   "metadata": {},
   "source": [
    "3. A program to find the number of common elements between two lists. The lists contain integers."
   ]
  },
  {
   "cell_type": "code",
   "execution_count": 4,
   "id": "e7c88b7e-a54d-4adb-8d82-90c611cd9ea3",
   "metadata": {},
   "outputs": [
    {
     "name": "stdout",
     "output_type": "stream",
     "text": [
      "\n",
      "Q3.\n",
      "Enter element for list 1 (Enter a non integer to stop): \n"
     ]
    },
    {
     "name": "stdin",
     "output_type": "stream",
     "text": [
      " 1\n",
      " 2\n",
      " 3\n",
      " 4\n",
      " 5\n",
      " \n"
     ]
    },
    {
     "name": "stdout",
     "output_type": "stream",
     "text": [
      "Enter element for list 2: \n"
     ]
    },
    {
     "name": "stdin",
     "output_type": "stream",
     "text": [
      " 2\n",
      " 4\n",
      " \n"
     ]
    },
    {
     "name": "stdout",
     "output_type": "stream",
     "text": [
      "No. of common elements between the 2 lists = 2\n"
     ]
    }
   ],
   "source": [
    "def common_elements_between_two_lists(list1, list2):\n",
    "    # store the intersection of the 2 list and store the common elements as a new list, and return the length of the new list\n",
    "    return len(list(np.intersect1d(list1, list2))) \n",
    "\n",
    "def read_list_elements():\n",
    "    try:\n",
    "        temp_list = [] # declare an empty temporary list to store values\n",
    "        while True: # keep inserting values in list, until input is not a integer number\n",
    "            temp_list.append(int(input()))\n",
    "    # if the input is a non integer stop appending values and return the temporary list\n",
    "    except:\n",
    "        return temp_list\n",
    "\n",
    "def main():\n",
    "    print(\"\\nQ3.\")\n",
    "    print(\"Enter element for list 1 (Enter a non integer to stop): \")\n",
    "    l1 = read_list_elements() # input first list\n",
    "    print(\"Enter element for list 2: \")\n",
    "    l2 = read_list_elements() # input second matrix\n",
    "    print(f\"No. of common elements between the 2 lists = {common_elements_between_two_lists(l1, l2)}\")\n",
    "      \n",
    "if __name__ == \"__main__\":\n",
    "    main()"
   ]
  },
  {
   "cell_type": "code",
   "execution_count": 5,
   "id": "16417b4c-c089-428f-8041-17036ca9bffc",
   "metadata": {},
   "outputs": [
    {
     "name": "stdout",
     "output_type": "stream",
     "text": [
      "\n",
      "Q4.\n"
     ]
    },
    {
     "name": "stdin",
     "output_type": "stream",
     "text": [
      "Enter no. of rows:  2\n",
      "Enter no. of columns:  3\n",
      "Enter matrix[1][1] =  1\n",
      "Enter matrix[1][2] =  2\n",
      "Enter matrix[1][3] =  3\n",
      "Enter matrix[2][1] =  4\n",
      "Enter matrix[2][2] =  5\n",
      "Enter matrix[2][3] =  6\n"
     ]
    },
    {
     "name": "stdout",
     "output_type": "stream",
     "text": [
      "The original matrix is = \n",
      "[[1 2 3]\n",
      " [4 5 6]]\n",
      "Transpose of the matrix is = \n",
      "[[1 4]\n",
      " [2 5]\n",
      " [3 6]]\n"
     ]
    }
   ],
   "source": [
    "# Write a program that accepts a matrix as input and returns its transpose.\n",
    "def transpose_of_matrix(mat):\n",
    "    return np.transpose(mat) # return the transpose of the matrix\n",
    "\n",
    "def main():\n",
    "    print(\"\\nQ4.\")\n",
    "    mat = input_matrix() # input the matrix\n",
    "    print(f\"The original matrix is = \")\n",
    "    print(mat) # print the original matrix\n",
    "    print(f\"Transpose of the matrix is = \")\n",
    "    print(transpose_of_matrix(mat))  # print the transpose of the matrix        \n",
    "\n",
    "if __name__ == \"__main__\":\n",
    "    main()"
   ]
  }
 ],
 "metadata": {
  "kernelspec": {
   "display_name": "Python 3 (ipykernel)",
   "language": "python",
   "name": "python3"
  },
  "language_info": {
   "codemirror_mode": {
    "name": "ipython",
    "version": 3
   },
   "file_extension": ".py",
   "mimetype": "text/x-python",
   "name": "python",
   "nbconvert_exporter": "python",
   "pygments_lexer": "ipython3",
   "version": "3.12.4"
  }
 },
 "nbformat": 4,
 "nbformat_minor": 5
}
